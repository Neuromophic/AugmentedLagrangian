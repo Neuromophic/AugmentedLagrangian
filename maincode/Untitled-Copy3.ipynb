{
 "cells": [
  {
   "cell_type": "code",
   "execution_count": null,
   "id": "bee6c78c-c8a4-45e0-b4bc-633075a65291",
   "metadata": {},
   "outputs": [],
   "source": [
    "import os\n",
    "import sys\n",
    "sys.path.append(os.getcwd())\n",
    "sys.path.append(os.path.join(os.getcwd(), 'utils'))\n",
    "from configuration import *\n",
    "import torch\n",
    "import pprint\n",
    "import pNN_Power_Aware as pNN\n",
    "from utils import *\n",
    "\n",
    "args = parser.parse_args([])\n",
    "args.projectname = 'test34'\n",
    "args = FormulateArgs(args)\n",
    "\n",
    "args.PATIENCE = 50\n",
    "args.mu = 100\n",
    "args.powerestimator = 'AL'\n",
    "args.powerbalance = 5e-4\n",
    "    \n",
    "print(f'Training network on device: {args.DEVICE}.')\n",
    "MakeFolder(args)\n",
    "\n",
    "train_loader, datainfo = GetDataLoader(args, 'train')\n",
    "valid_loader, datainfo = GetDataLoader(args, 'valid')\n",
    "test_loader, datainfo = GetDataLoader(args, 'test')\n",
    "pprint.pprint(datainfo)\n",
    "\n",
    "SetSeed(args.SEED)\n",
    "setup = f\"data_{datainfo['dataname']}_seed_{args.SEED}_Penalty_{args.powerestimator}_Factor_{args.powerbalance}\"\n",
    "print(f'Training setup: {setup}.')\n",
    "\n",
    "msglogger = GetMessageLogger(args, setup)\n",
    "msglogger.info(f'Training network on device: {args.DEVICE}.')\n",
    "msglogger.info(f'Training setup: {setup}.')\n",
    "msglogger.info(datainfo)\n",
    "\n",
    "topology = [datainfo['N_feature']] + args.hidden + [datainfo['N_class']]\n",
    "\n",
    "pnn = pNN.pNN(topology, args).to(args.DEVICE)"
   ]
  },
  {
   "cell_type": "code",
   "execution_count": null,
   "id": "27c0ebae-3189-46a2-b4c3-6db65a7c58b9",
   "metadata": {},
   "outputs": [],
   "source": [
    "def PT(pnn, train_loader, valid_loader, args, msglogger, setup):\n",
    "    \n",
    "    # Pretraning\n",
    "    lossfunction = pNN.Lossfunction(args).to(args.DEVICE)\n",
    "    optimizer = torch.optim.Adam(pnn.GetParam(), lr=args.LR)\n",
    "\n",
    "    if args.powerestimator == 'AL':\n",
    "        pnn, best = al_train_pnn_progressive(pnn, train_loader, valid_loader, lossfunction, optimizer, args, msglogger, UUID=setup+'_PT')\n",
    "    else:\n",
    "        pnn, best = train_pnn_progressive(pnn, train_loader, valid_loader, lossfunction, optimizer, args, msglogger, UUID=setup+'_PT')\n",
    "\n",
    "    if best:\n",
    "        if not os.path.exists(f'{args.savepath}/'):\n",
    "            os.makedirs(f'{args.savepath}/')\n",
    "        torch.save(pnn, f'{args.savepath}/pNN_{setup}.model')\n",
    "        msglogger.info('Pretraining is finished.')\n",
    "    else:\n",
    "        msglogger.warning('Time out, further training is necessary.')\n",
    "    \n",
    "    \n",
    "def FT(train_loader, valid_loader, args, msglogger, setup):\n",
    "\n",
    "    pnn = torch.load(f'{args.savepath}/pNN_{setup}.model')\n",
    "\n",
    "    # Pruning\n",
    "    msglogger.info('Pruning...')\n",
    "    print('Pruning...')\n",
    "    N1, N2, N3, P1, P2, P3 = pnn.pruning\n",
    "    information = f'{N1} ({P1*100:.2f}%) resistors, {N2} ({P2*100:.2f}%) activations and {N3} ({P3*100:.2f}%) negation circuits are pruned.'\n",
    "    msglogger.info(information)\n",
    "    print(information)\n",
    "\n",
    "\n",
    "    # Fine Tuning\n",
    "    lossfunction = pNN.Lossfunction(args).to(args.DEVICE)\n",
    "    msglogger.info('Fine tuning...')\n",
    "    optimizer = torch.optim.Adam(pnn.GetParam(), lr=args.LR/10.)\n",
    "    if args.powerestimator == 'AL':\n",
    "        pnn, best = al_train_pnn_progressive(pnn, train_loader, valid_loader, lossfunction, optimizer, args, msglogger, UUID=setup+'_FT')\n",
    "    else:\n",
    "        pnn, best = train_pnn_progressive(pnn, train_loader, valid_loader, lossfunction, optimizer, args, msglogger, UUID=setup+'_FT')\n",
    "    if best:\n",
    "        if not os.path.exists(f'{args.savepath}/'):\n",
    "            os.makedirs(f'{args.savepath}/')\n",
    "        torch.save(pnn, f'{args.savepath}/pNN_{setup}_FT.model')\n",
    "        msglogger.info('Fine tuning if finished.')\n",
    "    else:\n",
    "        msglogger.warning('Time out, further training is necessary.') "
   ]
  },
  {
   "cell_type": "code",
   "execution_count": null,
   "id": "4e62d6d3-9264-45c9-ad5b-b7efc4cea14f",
   "metadata": {},
   "outputs": [],
   "source": [
    "PT(pnn, train_loader, valid_loader, args, msglogger, setup)  "
   ]
  },
  {
   "cell_type": "code",
   "execution_count": null,
   "id": "8bc52514-29a3-4cf1-831b-fbb559f1fbee",
   "metadata": {},
   "outputs": [],
   "source": [
    "FT(train_loader, valid_loader, args, msglogger, setup)"
   ]
  },
  {
   "cell_type": "code",
   "execution_count": null,
   "id": "310cea53-d364-4169-82ce-ed5e116046a4",
   "metadata": {},
   "outputs": [],
   "source": [
    "import torch\n",
    "\n",
    "torch.manual_seed(0)\n",
    "\n",
    "torch.r"
   ]
  }
 ],
 "metadata": {
  "kernelspec": {
   "display_name": "pNN",
   "language": "python",
   "name": "pnn"
  },
  "language_info": {
   "codemirror_mode": {
    "name": "ipython",
    "version": 3
   },
   "file_extension": ".py",
   "mimetype": "text/x-python",
   "name": "python",
   "nbconvert_exporter": "python",
   "pygments_lexer": "ipython3",
   "version": "3.9.16"
  }
 },
 "nbformat": 4,
 "nbformat_minor": 5
}
