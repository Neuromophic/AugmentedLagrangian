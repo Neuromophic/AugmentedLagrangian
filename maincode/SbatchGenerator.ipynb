{
 "cells": [
  {
   "cell_type": "code",
   "execution_count": 3,
   "id": "d3709013-e2ef-4ee7-8e7d-a1f21cf476fd",
   "metadata": {},
   "outputs": [],
   "source": [
    "def WriteHeader(f, TaskName):\n",
    "    f.write(\"#!/bin/bash\\n\\n\")\n",
    "    f.write(\"#SBATCH --partition=single\\n\")\n",
    "    f.write(\"#SBATCH --ntasks-per-node=40\\n\")\n",
    "    f.write(\"#SBATCH --time=72:00:00\\n\")\n",
    "    f.write(f\"#SBATCH --job-name={TaskName}\\n\")\n",
    "    f.write(\"#SBATCH --error=%x.%j.err\\n\")\n",
    "    f.write(\"#SBATCH --output=%x.%j.out\\n\")\n",
    "    f.write(\"#SBATCH --mail-user=hzhao@teco.edu\\n\\n\")\n",
    "\n",
    "    # f.write(\"cp -r ./utils $TMPDIR/\\n\\n\")"
   ]
  },
  {
   "cell_type": "code",
   "execution_count": 4,
   "id": "1b77015c-5e19-420e-950c-c09d7316493b",
   "metadata": {
    "tags": []
   },
   "outputs": [],
   "source": [
    "import numpy as np\n",
    "\n",
    "\n",
    "def write_jobs(f, job_counter, seed, metric, gamma):\n",
    "    line = f'python3 experiment.py --SEED {seed:02d} --powerestimator {metric} --powerbalance {gamma:.2f} --projectname PowerAwareBaseline &\\n'\n",
    "    f.write(line)\n",
    "    job_counter += 1\n",
    "    return job_counter\n",
    "\n",
    "job_counter = 0\n",
    "file_counter = 1\n",
    "\n",
    "gammas = np.linspace(0, 1, 51)\n",
    "\n",
    "# Open the first file\n",
    "f = open(f'run_baseline_PAT_{file_counter:02d}.sh', 'w')\n",
    "WriteHeader(f, 'PAT_base')\n",
    "\n",
    "for gamma in gammas:\n",
    "    for seed in range(10):\n",
    "        if job_counter >= 40:\n",
    "            # Close the current file and reset the job counter\n",
    "            f.write(\"\\nwait\\n\")\n",
    "            f.close()\n",
    "            file_counter += 1\n",
    "            job_counter = 0\n",
    "\n",
    "            # Open a new file\n",
    "            f = open(f'run_baseline_PAT_{file_counter:02d}.sh', 'w')\n",
    "            WriteHeader(f, 'PAT_base')\n",
    "\n",
    "        job_counter = write_jobs(f, job_counter, seed, 'power', gamma)\n",
    "\n",
    "# If the loop exits but there are still jobs that haven't been written to a closed file\n",
    "if not f.closed:\n",
    "    f.write(\"\\nwait\\n\")\n",
    "    f.close()\n"
   ]
  },
  {
   "cell_type": "code",
   "execution_count": 5,
   "id": "c65bf451-b3cc-4fe6-9e30-c57ac5091baf",
   "metadata": {},
   "outputs": [],
   "source": [
    "import numpy as np\n",
    "\n",
    "\n",
    "def write_jobs(f, job_counter, seed, metric, gamma):\n",
    "    line = f'python3 experiment.py --SEED {seed:02d} --powerestimator {metric} --powerbalance {gamma:.2f} --lnc False --projectname PowerAwareBaselineOld &\\n'\n",
    "    f.write(line)\n",
    "    job_counter += 1\n",
    "    return job_counter\n",
    "\n",
    "job_counter = 0\n",
    "file_counter = 1\n",
    "\n",
    "gammas = np.linspace(0, 1, 51)\n",
    "\n",
    "# Open the first file\n",
    "f = open(f'run_baseline_PAT_old_{file_counter:02d}.sh', 'w')\n",
    "WriteHeader(f, 'PAT_base')\n",
    "\n",
    "for gamma in gammas:\n",
    "    for seed in range(10):\n",
    "        if job_counter >= 40:\n",
    "            # Close the current file and reset the job counter\n",
    "            f.write(\"\\nwait\\n\")\n",
    "            f.close()\n",
    "            file_counter += 1\n",
    "            job_counter = 0\n",
    "\n",
    "            # Open a new file\n",
    "            f = open(f'run_baseline_PAT_old_{file_counter:02d}.sh', 'w')\n",
    "            WriteHeader(f, 'PAT_base')\n",
    "\n",
    "        job_counter = write_jobs(f, job_counter, seed, 'power', gamma)\n",
    "\n",
    "# If the loop exits but there are still jobs that haven't been written to a closed file\n",
    "if not f.closed:\n",
    "    f.write(\"\\nwait\\n\")\n",
    "    f.close()\n"
   ]
  },
  {
   "cell_type": "code",
   "execution_count": null,
   "id": "567f927c-4fea-4dc4-b8a5-bf0cdcc4f42b",
   "metadata": {},
   "outputs": [],
   "source": []
  }
 ],
 "metadata": {
  "kernelspec": {
   "display_name": "pNN",
   "language": "python",
   "name": "pnn"
  },
  "language_info": {
   "codemirror_mode": {
    "name": "ipython",
    "version": 3
   },
   "file_extension": ".py",
   "mimetype": "text/x-python",
   "name": "python",
   "nbconvert_exporter": "python",
   "pygments_lexer": "ipython3",
   "version": "3.9.16"
  }
 },
 "nbformat": 4,
 "nbformat_minor": 5
}
